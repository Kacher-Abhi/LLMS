{
 "cells": [
  {
   "cell_type": "code",
   "execution_count": 5,
   "id": "ab733fa9-4cb2-4c6f-a82c-dfd518f0d5a6",
   "metadata": {},
   "outputs": [
    {
     "name": "stdout",
     "output_type": "stream",
     "text": [
      "Dataset created successfully with 100 dialogues.\n",
      "Number of products sold: 11\n",
      "Time taken to generate data: 0.0007970333099365234 seconds\n"
     ]
    }
   ],
   "source": [
    "import csv\n",
    "import datetime\n",
    "import random\n",
    "import time\n",
    "\n",
    "# Predefined accurate and complete responses to ensure quality and mitigate bias\n",
    "responses = [\n",
    "    \"Our smart home system integrates seamlessly with your existing devices and allows for complete control from anywhere, promoting accessibility and ease of use for everyone.\",\n",
    "    \"You'll love how our system enhances security while providing energy-saving features throughout your home, ensuring safety and sustainability.\",\n",
    "    \"Imagine arriving home to a perfectly lit and climate-controlled environment, all managed with a simple voice command, offering convenience and comfort for every member of your household.\",\n",
    "    \"Our system supports a variety of voice assistants and mobile devices, making it versatile and user-friendly regardless of your preferred technology.\",\n",
    "    \"The installation process is straightforward and can be customized to your home's layout, with professional support available to ensure everything works perfectly for you.\",\n",
    "    \"We prioritize your privacy and security, with advanced encryption and user controls to keep your home safe from unauthorized access.\",\n",
    "    \"Enjoy the benefits of smart automation, from automated lighting to climate control, all designed to enhance your living experience while being mindful of energy consumption.\",\n",
    "    \"Our smart home solutions are designed with inclusivity in mind, offering features that cater to individuals with varying needs and preferences.\",\n",
    "    \"Experience the convenience of managing all your home devices through one intuitive app, designed to be accessible and easy to use for everyone.\",\n",
    "    \"Our customer support team is always ready to assist you with any questions or issues, ensuring a smooth and positive experience with our smart home system.\"\n",
    "]\n",
    "\n",
    "# Function to generate a dialogue response\n",
    "def generate_response():\n",
    "    return random.choice(responses)\n",
    "\n",
    "# Function to generate the dataset with enhanced data quality and bias mitigation\n",
    "def generate_dataset(num_dialogues):\n",
    "    dialogues = []\n",
    "    products_sold = 0\n",
    "    for i in range(num_dialogues):\n",
    "        salesman = \"SmartHome Solutions\"\n",
    "        user = \"Homeowner\"\n",
    "        timestamp = datetime.datetime.now().strftime(\"%Y-%m-%d %H:%M:%S\")\n",
    "\n",
    "        # Generate two dialogue exchanges per set\n",
    "        dialogue1 = f\"User: Hello, I'm interested in your smart home automation system.\\nSalesman: {generate_response()}\"\n",
    "        dialogue2 = f\"User: How does your system handle security?\\nSalesman: {generate_response()}\"\n",
    "\n",
    "        dialogues.append([salesman, user, timestamp, dialogue1])\n",
    "        dialogues.append([salesman, user, timestamp, dialogue2])\n",
    "\n",
    "        # Simulate a sale if certain keywords are in the response\n",
    "        if \"integrates seamlessly\" in dialogue1 or \"enhances security\" in dialogue2:\n",
    "            products_sold += 1\n",
    "\n",
    "    return dialogues, products_sold\n",
    "\n",
    "# Main function to create and save the dataset to CSV\n",
    "def main():\n",
    "    num_dialogues = 100  # Minimum requirement\n",
    "\n",
    "    start_time = time.time()\n",
    "    conversations, products_sold = generate_dataset(num_dialogues)\n",
    "    end_time = time.time()\n",
    "\n",
    "    compute_time = end_time - start_time\n",
    "\n",
    "    # Save conversations to CSV\n",
    "    with open('sales_conversations.csv', 'w', newline='', encoding='utf-8') as file:\n",
    "        writer = csv.writer(file)\n",
    "        writer.writerow(['Salesman', 'User', 'TimeStamp', 'Conversation'])\n",
    "        writer.writerows(conversations)\n",
    "\n",
    "    print(f\"Dataset created successfully with {num_dialogues} dialogues.\")\n",
    "    print(f\"Number of products sold: {products_sold}\")\n",
    "    print(f\"Time taken to generate data: {compute_time} seconds\")\n",
    "\n",
    "if __name__ == \"__main__\":\n",
    "    main()\n"
   ]
  },
  {
   "cell_type": "code",
   "execution_count": null,
   "id": "4c6502a8-dc2d-4c02-bb02-24caa69fdbfb",
   "metadata": {},
   "outputs": [],
   "source": []
  }
 ],
 "metadata": {
  "kernelspec": {
   "display_name": "Python 3 (ipykernel)",
   "language": "python",
   "name": "python3"
  },
  "language_info": {
   "codemirror_mode": {
    "name": "ipython",
    "version": 3
   },
   "file_extension": ".py",
   "mimetype": "text/x-python",
   "name": "python",
   "nbconvert_exporter": "python",
   "pygments_lexer": "ipython3",
   "version": "3.11.4"
  }
 },
 "nbformat": 4,
 "nbformat_minor": 5
}
